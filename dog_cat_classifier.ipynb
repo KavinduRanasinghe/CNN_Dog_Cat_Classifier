{
  "cells": [
    {
      "cell_type": "markdown",
      "metadata": {
        "colab_type": "text",
        "id": "view-in-github"
      },
      "source": [
        "<a href=\"https://colab.research.google.com/github/KavinduRanasinghe/dog_cat_classifier/blob/main/dog_cat_classifier.ipynb\" target=\"_parent\"><img src=\"https://colab.research.google.com/assets/colab-badge.svg\" alt=\"Open In Colab\"/></a>"
      ]
    },
    {
      "cell_type": "code",
      "execution_count": null,
      "metadata": {
        "colab": {
          "base_uri": "https://localhost:8080/"
        },
        "id": "FL9y32VE9CJ5",
        "outputId": "3da0237c-2c78-482f-edd5-e8cedcfe0726"
      },
      "outputs": [],
      "source": [
        "!pip install numpy pandas matplotlib tensorflow opendatasets"
      ]
    },
    {
      "cell_type": "markdown",
      "metadata": {
        "id": "Zv4QsuUb-BWi"
      },
      "source": []
    },
    {
      "cell_type": "code",
      "execution_count": 2,
      "metadata": {
        "id": "Vx74oNJD-YCb"
      },
      "outputs": [],
      "source": [
        "import numpy as np\n",
        "import pandas as pd\n",
        "import matplotlib.pyplot as plt\n",
        "import tensorflow as tf\n",
        "import time\n",
        "import opendatasets as od"
      ]
    },
    {
      "cell_type": "code",
      "execution_count": null,
      "metadata": {
        "colab": {
          "base_uri": "https://localhost:8080/"
        },
        "id": "Jc5IibWn-kHO",
        "outputId": "fe550e4c-2cc4-4096-83ac-99408535bac6"
      },
      "outputs": [],
      "source": [
        "od.download(\"https://www.kaggle.com/datasets/dineshpiyasamara/cats-and-dogs-for-classification\")"
      ]
    },
    {
      "cell_type": "code",
      "execution_count": 4,
      "metadata": {
        "id": "47IlwhcT_l3U"
      },
      "outputs": [],
      "source": [
        "BATCH_SIZE = 32\n",
        "IMAGE_SIZE = (128, 128)"
      ]
    },
    {
      "cell_type": "code",
      "execution_count": 5,
      "metadata": {
        "id": "K_uAPp--_zlp"
      },
      "outputs": [],
      "source": [
        "train_data_dir = \"/content/cats-and-dogs-for-classification/cats_dogs/train\"\n",
        "test_data_dir = \"/content/cats-and-dogs-for-classification/cats_dogs/test\""
      ]
    },
    {
      "cell_type": "code",
      "execution_count": null,
      "metadata": {
        "colab": {
          "base_uri": "https://localhost:8080/"
        },
        "id": "K_nz9aZEADxp",
        "outputId": "c45a3484-f062-468d-f267-33630220ce62"
      },
      "outputs": [],
      "source": [
        "train_data = tf.keras.utils.image_dataset_from_directory(train_data_dir,\n",
        "                                                         batch_size=BATCH_SIZE,\n",
        "                                                         image_size=IMAGE_SIZE,\n",
        "                                                         subset='training',\n",
        "                                                         validation_split=0.1,\n",
        "                                                         seed=42\n",
        "                                                         )\n",
        "\n",
        "validation_data = tf.keras.utils.image_dataset_from_directory(train_data_dir,\n",
        "                                                              batch_size=BATCH_SIZE,\n",
        "                                                              image_size=IMAGE_SIZE,\n",
        "                                                              subset='validation',\n",
        "                                                              validation_split=0.1,\n",
        "                                                              seed=42\n",
        "                                                              )\n",
        "\n",
        "test_data = tf.keras.utils.image_dataset_from_directory(test_data_dir,\n",
        "                                                        batch_size=BATCH_SIZE,\n",
        "                                                        image_size=IMAGE_SIZE\n",
        "                                                        )"
      ]
    },
    {
      "cell_type": "code",
      "execution_count": null,
      "metadata": {
        "colab": {
          "base_uri": "https://localhost:8080/"
        },
        "id": "cNXb2QVeEEQI",
        "outputId": "3b0cc7a9-4dcf-4edd-d3a3-9ba4a1385543"
      },
      "outputs": [],
      "source": [
        "class_names = train_data.class_names\n",
        "class_names"
      ]
    },
    {
      "cell_type": "code",
      "execution_count": null,
      "metadata": {
        "colab": {
          "base_uri": "https://localhost:8080/"
        },
        "id": "0oIp_4d1EI0O",
        "outputId": "ea0adfdb-845e-4ff4-f81f-3581b1027ad3"
      },
      "outputs": [],
      "source": [
        "for image_batch, label_batch in train_data.take(1):\n",
        "  print(image_batch.shape)\n",
        "  print(label_batch.shape)"
      ]
    },
    {
      "cell_type": "code",
      "execution_count": null,
      "metadata": {
        "colab": {
          "base_uri": "https://localhost:8080/",
          "height": 353
        },
        "id": "xRJ-vyBpFK9-",
        "outputId": "6cb6a7c6-f66c-465d-f4c6-5f87f34572d7"
      },
      "outputs": [],
      "source": [
        "plt.figure(figsize=(10,4))\n",
        "for image , label in train_data.take(1):\n",
        "  for i in range(10):\n",
        "    ax = plt.subplot(2,5,i+1)\n",
        "    plt.imshow(image[i].numpy().astype('uint8'))\n",
        "    plt.title(class_names[label[i]])\n",
        "    plt.axis('off')"
      ]
    },
    {
      "cell_type": "code",
      "execution_count": null,
      "metadata": {
        "colab": {
          "base_uri": "https://localhost:8080/"
        },
        "id": "x8s0i9ZVHsiV",
        "outputId": "f995f787-2afc-4861-de8d-6030fed876c8"
      },
      "outputs": [],
      "source": [
        "for image,label in train_data.take(1):\n",
        "  for i in range(1):\n",
        "    print(image)"
      ]
    },
    {
      "cell_type": "code",
      "execution_count": 11,
      "metadata": {
        "id": "cpURsI3eGfu6"
      },
      "outputs": [],
      "source": [
        "train_data = train_data.map(lambda x,y:(x/255,y))\n",
        "validation_data = validation_data.map(lambda x,y:(x/255,y))\n",
        "test_data = test_data.map(lambda x,y:(x/255,y))"
      ]
    },
    {
      "cell_type": "code",
      "execution_count": null,
      "metadata": {
        "colab": {
          "base_uri": "https://localhost:8080/"
        },
        "id": "ObcXOkjyHfh2",
        "outputId": "e361cb8c-11f5-48e6-a4a9-68cdf082d139"
      },
      "outputs": [],
      "source": [
        "for image,label in train_data.take(1):\n",
        "  for i in range(1):\n",
        "    print(image)"
      ]
    },
    {
      "cell_type": "code",
      "execution_count": 13,
      "metadata": {
        "id": "fC-sCflJH0Dg"
      },
      "outputs": [],
      "source": [
        "data_augmentation = tf.keras.Sequential(\n",
        "    [\n",
        "        tf.keras.layers.RandomFlip(\"horizontal\",input_shape=(128,128,3)),\n",
        "        tf.keras.layers.RandomRotation(0.2),\n",
        "        tf.keras.layers.RandomZoom(0.2)\n",
        "    ]\n",
        ")"
      ]
    },
    {
      "cell_type": "code",
      "execution_count": null,
      "metadata": {
        "colab": {
          "base_uri": "https://localhost:8080/"
        },
        "id": "d96xsRJWIgIn",
        "outputId": "7500661c-f325-4faf-eea1-c006aa77eb81"
      },
      "outputs": [],
      "source": [
        "import tensorflow as tf\n",
        "\n",
        "# Initialize the Sequential model\n",
        "model = tf.keras.models.Sequential()\n",
        "\n",
        "# Add the data augmentation layer (assuming `data_augmentation` is predefined)\n",
        "model.add(data_augmentation)\n",
        "\n",
        "# Add the convolutional and pooling layers\n",
        "model.add(tf.keras.layers.Conv2D(32, kernel_size=3, activation='relu'))\n",
        "model.add(tf.keras.layers.MaxPooling2D())\n",
        "\n",
        "model.add(tf.keras.layers.Conv2D(64, kernel_size=3, activation='relu'))\n",
        "model.add(tf.keras.layers.MaxPooling2D())\n",
        "\n",
        "model.add(tf.keras.layers.Conv2D(128, kernel_size=3, activation='relu'))\n",
        "model.add(tf.keras.layers.MaxPooling2D())\n",
        "\n",
        "# Add regularization layers\n",
        "model.add(tf.keras.layers.Dropout(0.2))\n",
        "model.add(tf.keras.layers.BatchNormalization())\n",
        "\n",
        "# Flatten the output\n",
        "model.add(tf.keras.layers.Flatten())\n",
        "\n",
        "# Add dense layers\n",
        "model.add(tf.keras.layers.Dense(128, activation='relu'))\n",
        "model.add(tf.keras.layers.Dense(128, activation='relu'))\n",
        "model.add(tf.keras.layers.Dense(32, activation='relu'))\n",
        "\n",
        "# Final output layer (for binary classification)\n",
        "model.add(tf.keras.layers.Dense(1, activation='sigmoid'))\n",
        "\n",
        "# Display the model summary\n",
        "model.summary()\n"
      ]
    },
    {
      "cell_type": "code",
      "execution_count": 15,
      "metadata": {
        "id": "EeErFr-0UAgr"
      },
      "outputs": [],
      "source": [
        "model.compile(optimizer=tf.keras.optimizers.Adam(),\n",
        "              loss=tf.keras.losses.BinaryCrossentropy(),\n",
        "              metrics=['accuracy'])"
      ]
    },
    {
      "cell_type": "code",
      "execution_count": null,
      "metadata": {
        "colab": {
          "base_uri": "https://localhost:8080/"
        },
        "id": "yh6d_lMNURz6",
        "outputId": "4caf8b18-3bf9-4b7f-98f0-1f9a487211df"
      },
      "outputs": [],
      "source": [
        "start_time = time.time()\n",
        "\n",
        "history = model.fit(train_data,\n",
        "                    epochs=20,\n",
        "                    validation_data=validation_data)\n",
        "\n",
        "end_time = time.time()\n",
        "\n",
        "runtime = end_time-start_time\n",
        "\n",
        "runtime"
      ]
    },
    {
      "cell_type": "code",
      "execution_count": null,
      "metadata": {
        "colab": {
          "base_uri": "https://localhost:8080/"
        },
        "id": "kU6NavxUb4JM",
        "outputId": "d1223af6-4c08-4170-dcaa-5ead98a1daea"
      },
      "outputs": [],
      "source": [
        "\n",
        "print(f'Total time for training {(end_time-start_time):.3f} seconds')"
      ]
    },
    {
      "cell_type": "code",
      "execution_count": null,
      "metadata": {
        "colab": {
          "base_uri": "https://localhost:8080/"
        },
        "id": "_7CtsN8dV8fn",
        "outputId": "ed86e006-7e2f-4e42-fc8f-cde057c95a0c"
      },
      "outputs": [],
      "source": [
        "history.history"
      ]
    },
    {
      "cell_type": "code",
      "execution_count": null,
      "metadata": {
        "colab": {
          "base_uri": "https://localhost:8080/",
          "height": 478
        },
        "id": "km7g6Q71WCOD",
        "outputId": "258a91f1-1be4-4f38-9b64-aac0cfda6243"
      },
      "outputs": [],
      "source": [
        "fig  = plt.figure()\n",
        "plt.plot(history.history['accuracy'],color='teal',label='accuracy')\n",
        "plt.plot(history.history['val_accuracy'],color='orange',label='val_accuracy')\n",
        "fig.suptitle('Accuracy',fontsize=20)\n",
        "plt.legend()\n",
        "plt.show()\n"
      ]
    },
    {
      "cell_type": "code",
      "execution_count": null,
      "metadata": {
        "colab": {
          "base_uri": "https://localhost:8080/",
          "height": 478
        },
        "id": "K8uGY3FzXGBs",
        "outputId": "96aa03a8-2ffe-492e-b380-20c8dc47c61b"
      },
      "outputs": [],
      "source": [
        "fig  = plt.figure()\n",
        "plt.plot(history.history['loss'],color='teal',label='loss')\n",
        "plt.plot(history.history['val_loss'],color='orange',label='val_loss')\n",
        "fig.suptitle('Loss',fontsize=20)\n",
        "plt.legend()\n",
        "plt.show()\n"
      ]
    },
    {
      "cell_type": "code",
      "execution_count": 21,
      "metadata": {
        "id": "dvDYq3bbXXhg"
      },
      "outputs": [],
      "source": [
        "precision = tf.keras.metrics.Precision()\n",
        "recall = tf.keras.metrics.Recall()\n",
        "accuracy = tf.keras.metrics.BinaryAccuracy()\n"
      ]
    },
    {
      "cell_type": "code",
      "execution_count": null,
      "metadata": {
        "colab": {
          "base_uri": "https://localhost:8080/"
        },
        "id": "bXlTqNqQYjju",
        "outputId": "70472b39-34d8-457e-96cd-c4c39931f3d8"
      },
      "outputs": [],
      "source": [
        "for batch in test_data.as_numpy_iterator():\n",
        "  X,y=batch\n",
        "  yhat=model.predict(X)\n",
        "  precision.update_state(y,yhat)\n",
        "  recall.update_state(y,yhat)\n",
        "  accuracy.update_state(y,yhat)\n"
      ]
    },
    {
      "cell_type": "code",
      "execution_count": null,
      "metadata": {
        "colab": {
          "base_uri": "https://localhost:8080/"
        },
        "id": "Jih5S6sFY87-",
        "outputId": "96ec78ef-93c4-4cf7-bd49-0869448f8d5a"
      },
      "outputs": [],
      "source": [
        "precision.result()\n",
        "recall.result()\n",
        "accuracy.result()"
      ]
    },
    {
      "cell_type": "code",
      "execution_count": 24,
      "metadata": {
        "id": "Nif-Z-8DZDZu"
      },
      "outputs": [],
      "source": [
        "!pip install opencv-python -q"
      ]
    },
    {
      "cell_type": "code",
      "execution_count": 25,
      "metadata": {
        "id": "OddBNHbQZpwK"
      },
      "outputs": [],
      "source": [
        "import cv2"
      ]
    },
    {
      "cell_type": "code",
      "execution_count": null,
      "metadata": {
        "colab": {
          "base_uri": "https://localhost:8080/",
          "height": 435
        },
        "id": "djPNTN_yZsey",
        "outputId": "277cc443-937d-45dc-cb31-ef01d4f3f225"
      },
      "outputs": [],
      "source": [
        "image = cv2.imread('/content/cats-and-dogs-for-classification/cats_dogs/test/cats/cat.4004.jpg')\n",
        "\n",
        "plt.imshow(image)\n",
        "plt.show()"
      ]
    },
    {
      "cell_type": "code",
      "execution_count": 27,
      "metadata": {
        "id": "ZJ_5xoUmaMk_"
      },
      "outputs": [],
      "source": [
        "resized_image = tf.image.resize(image,IMAGE_SIZE)\n",
        "scaled_image = resized_image/255\n"
      ]
    },
    {
      "cell_type": "code",
      "execution_count": null,
      "metadata": {
        "colab": {
          "base_uri": "https://localhost:8080/"
        },
        "id": "qFXY4PHpcJs9",
        "outputId": "1412aac8-8835-42f3-88c9-521b45bbd44a"
      },
      "outputs": [],
      "source": [
        "\n",
        "scaled_image.shape"
      ]
    },
    {
      "cell_type": "code",
      "execution_count": null,
      "metadata": {
        "colab": {
          "base_uri": "https://localhost:8080/"
        },
        "id": "jXZKvIE9cLWd",
        "outputId": "5d534467-26e8-4afa-9b29-c248d5295afc"
      },
      "outputs": [],
      "source": [
        "\n",
        "np.expand_dims(scaled_image, 0).shape"
      ]
    },
    {
      "cell_type": "code",
      "execution_count": null,
      "metadata": {
        "colab": {
          "base_uri": "https://localhost:8080/"
        },
        "id": "xzlOptCQcNFP",
        "outputId": "b7185afe-529e-477f-ab7e-8dc7b1316586"
      },
      "outputs": [],
      "source": [
        "\n",
        "yhat = model.predict(np.expand_dims(scaled_image, 0))"
      ]
    },
    {
      "cell_type": "code",
      "execution_count": null,
      "metadata": {
        "colab": {
          "base_uri": "https://localhost:8080/"
        },
        "id": "w_ssjSgFcOxZ",
        "outputId": "fbf139c3-8335-4994-9f47-ecf16c2d9625"
      },
      "outputs": [],
      "source": [
        "yhat"
      ]
    },
    {
      "cell_type": "code",
      "execution_count": null,
      "metadata": {
        "colab": {
          "base_uri": "https://localhost:8080/"
        },
        "id": "KOGSwra8cQbz",
        "outputId": "9f71373f-3a21-41d7-8488-9a46e498d324"
      },
      "outputs": [],
      "source": [
        "class_names\n"
      ]
    },
    {
      "cell_type": "code",
      "execution_count": null,
      "metadata": {
        "colab": {
          "base_uri": "https://localhost:8080/"
        },
        "id": "x7Y9rItAcR5N",
        "outputId": "8037ec71-95f3-4eb6-a960-082d03988f85"
      },
      "outputs": [],
      "source": [
        "\n",
        "if yhat > 0.5:\n",
        "    print(f'{class_names[1]}')\n",
        "else:\n",
        "    print(f'{class_names[0]}')"
      ]
    }
  ],
  "metadata": {
    "accelerator": "TPU",
    "colab": {
      "gpuType": "V28",
      "include_colab_link": true,
      "provenance": []
    },
    "kernelspec": {
      "display_name": "base",
      "language": "python",
      "name": "python3"
    },
    "language_info": {
      "name": "python",
      "version": "3.12.7"
    }
  },
  "nbformat": 4,
  "nbformat_minor": 0
}
